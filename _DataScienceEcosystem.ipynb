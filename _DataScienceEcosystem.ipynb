{
 "cells": [
  {
   "cell_type": "markdown",
   "id": "5137eb32-ebd8-4ecd-8e90-27a007deeb96",
   "metadata": {},
   "source": [
    "# Data Science Tools and Ecosystem"
   ]
  },
  {
   "cell_type": "markdown",
   "id": "fc9786cc-f1e2-4e98-928a-e60691618c21",
   "metadata": {},
   "source": [
    "In this notebook, Data Science Tools and Ecosystem are summarized."
   ]
  },
  {
   "cell_type": "markdown",
   "id": "b6ea32ee-d23a-410d-8d6e-a962cfca44b0",
   "metadata": {},
   "source": [
    "**Objectives**\n",
    "* List popular languages for Data Science\n",
    "* List some of the commonly used libraries used by Data Scientists\n",
    "* Creating a single column table\n",
    "* Introducing arithmetic expressions in Python"
   ]
  },
  {
   "cell_type": "markdown",
   "id": "507a3efe-b0bc-420e-9a25-7cc85d194d74",
   "metadata": {
    "tags": []
   },
   "source": [
    "Some of the popular languages that Data Scientists use are:\n",
    "1. Python\n",
    "2. R\n",
    "3. Julia"
   ]
  },
  {
   "cell_type": "markdown",
   "id": "f48fafc4-468e-4767-aed8-8befbc710240",
   "metadata": {},
   "source": [
    "Some of the commonly used libraries used by Data Scientists include:\n",
    "1. NumPy\n",
    "2. Pandas\n",
    "3. Matplotlib\n",
    "4. Sci-kit learn"
   ]
  },
  {
   "cell_type": "markdown",
   "id": "7ceec6f6-fd0b-4cc6-b1f5-ed5f5adb4ede",
   "metadata": {},
   "source": [
    "| Data Science Tools |\n",
    "|:-----------------|\n",
    "| Anaconda |\n",
    "| Jupyter Notebooks |\n",
    "| PyCharm |\n"
   ]
  },
  {
   "cell_type": "markdown",
   "id": "82ece153-b237-4d0b-8c57-9540671e26d5",
   "metadata": {},
   "source": [
    "### Below are a few examples of evaluating arithmetic expressions in Python"
   ]
  },
  {
   "cell_type": "code",
   "execution_count": 3,
   "id": "8e393f97-d90a-4b16-af28-3451d4495ecc",
   "metadata": {
    "tags": []
   },
   "outputs": [
    {
     "data": {
      "text/plain": [
       "17"
      ]
     },
     "execution_count": 3,
     "metadata": {},
     "output_type": "execute_result"
    }
   ],
   "source": [
    "# This a simple arithmetic expression to mutiply then add integers\n",
    "(3*4)+5"
   ]
  },
  {
   "cell_type": "code",
   "execution_count": 4,
   "id": "08a303aa-6e4b-46ff-a2cd-20335858e775",
   "metadata": {
    "tags": []
   },
   "outputs": [
    {
     "data": {
      "text/plain": [
       "3.3333333333333335"
      ]
     },
     "execution_count": 4,
     "metadata": {},
     "output_type": "execute_result"
    }
   ],
   "source": [
    "# This will convert 200 minutes to hours by diving by 60\n",
    "200/60"
   ]
  },
  {
   "cell_type": "markdown",
   "id": "f6304854-96c4-4c99-96a8-58519d199f8a",
   "metadata": {},
   "source": [
    "## Author\n",
    "Fahimeh Khorsand"
   ]
  },
  {
   "cell_type": "code",
   "execution_count": null,
   "id": "def0e822-2973-401f-b55c-03b2bf4c0998",
   "metadata": {},
   "outputs": [],
   "source": []
  }
 ],
 "metadata": {
  "kernelspec": {
   "display_name": "Python",
   "language": "python",
   "name": "conda-env-python-py"
  },
  "language_info": {
   "codemirror_mode": {
    "name": "ipython",
    "version": 3
   },
   "file_extension": ".py",
   "mimetype": "text/x-python",
   "name": "python",
   "nbconvert_exporter": "python",
   "pygments_lexer": "ipython3",
   "version": "3.7.12"
  }
 },
 "nbformat": 4,
 "nbformat_minor": 5
}
